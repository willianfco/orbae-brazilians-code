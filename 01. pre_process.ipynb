{
 "cells": [
  {
   "cell_type": "code",
   "execution_count": null,
   "metadata": {},
   "outputs": [],
   "source": [
    "%load_ext watermark\n",
    "%watermark -v -p numpy,pandas,torch,torchvision,PIL,sklearn,matplotlib,wandb,captum --conda"
   ]
  },
  {
   "cell_type": "code",
   "execution_count": null,
   "metadata": {},
   "outputs": [],
   "source": [
    "# Setting the experiment environment\n",
    "\n",
    "import time\n",
    "import numpy as np\n",
    "import pandas as pd\n",
    "import torch\n",
    "from utils.set_seed import set_seed\n",
    "from utils.preprocess_utils import add_augmentation_multiplier, save_augmented_images\n",
    "\n",
    "# Set seed for reproducibility\n",
    "SEED = 0\n",
    "set_seed(SEED)\n",
    "\n",
    "# Get start time of the current experiment\n",
    "start_time = time.strftime(\"%Y-%m-%d_%H-%M-%S\", time.localtime())\n",
    "\n",
    "# Set the device to GPU if available\n",
    "DEVICE = torch.device(\"cuda:0\" if torch.cuda.is_available() else \"cpu\")\n",
    "print(f\"Device: {torch.cuda.get_device_name(DEVICE)}\")\n"
   ]
  },
  {
   "cell_type": "code",
   "execution_count": null,
   "metadata": {},
   "outputs": [],
   "source": [
    "# Loading data from csv file\n",
    "\n",
    "df = pd.read_csv(\"Data\\ccs_dataset.csv\")\n",
    "print(f\"Dataset shape: {df.shape}\")\n",
    "df.head()"
   ]
  },
  {
   "cell_type": "code",
   "execution_count": null,
   "metadata": {},
   "outputs": [],
   "source": [
    "# Splitting data into train, validation and test sets with scikit-learn\n",
    "from sklearn.model_selection import train_test_split\n",
    "\n",
    "train_df, temp_df = train_test_split(df, test_size=0.2, stratify=df.age_group)\n",
    "test_df, val_df = train_test_split(temp_df, test_size=0.5, stratify=temp_df.age_group)\n",
    "\n",
    "# Deleting temp_df to free memory\n",
    "del temp_df"
   ]
  },
  {
   "cell_type": "code",
   "execution_count": null,
   "metadata": {},
   "outputs": [],
   "source": [
    "# Adding augmentation multiplier to the train set\n",
    "\n",
    "train_df = add_augmentation_multiplier(train_df, min_multiplier=3, max_multiplier=3)\n"
   ]
  },
  {
   "cell_type": "code",
   "execution_count": null,
   "metadata": {},
   "outputs": [],
   "source": [
    "# verify image count after augmentation by multiplying augmentation_multiplier and value_counts of age_group\n",
    "\n",
    "calc_df = train_df.groupby(\"age_group\").agg(\n",
    "    {\"age_group\": \"count\", \"augmentation_multiplier\": \"mean\"}\n",
    ")\n",
    "calc_df['images_after_augmentation'] = calc_df['age_group'] * calc_df['augmentation_multiplier']\n",
    "print('Total augmented images: ', calc_df['images_after_augmentation'].sum())\n",
    "\n",
    "calc_df = calc_df.rename(columns={'age_group': 'images_before_augmentation'})\n",
    "\n",
    "calc_df.sort_values('images_after_augmentation').style"
   ]
  },
  {
   "cell_type": "code",
   "execution_count": null,
   "metadata": {},
   "outputs": [],
   "source": [
    "# Change augmentation_multiplier to 3 for age_group with images_before_augmentation > 400\n",
    "\n",
    "calc_df.loc[calc_df['images_before_augmentation'] > 400, 'augmentation_multiplier'] = 3\n",
    "\n",
    "# Update augmentation_multiplier in train_df\n",
    "\n",
    "train_df = train_df.merge(calc_df['augmentation_multiplier'], on='age_group', how='left')\n",
    "\n",
    "# Rename drop old augmentation_multiplier column and rename new augmentation_multiplier column\n",
    "\n",
    "train_df = train_df.rename(columns={'augmentation_multiplier_y': 'augmentation_multiplier'})\n",
    "train_df = train_df.drop(columns=['augmentation_multiplier_x'])\n",
    "\n",
    "# Set new augmentation_multiplier to integer\n",
    "\n",
    "train_df['augmentation_multiplier'] = train_df['augmentation_multiplier'].astype(int)\n",
    "\n",
    "train_df.head()\n",
    "\n"
   ]
  },
  {
   "cell_type": "code",
   "execution_count": null,
   "metadata": {},
   "outputs": [],
   "source": [
    "# Check new augmentation_multiplier values and total augmented images\n",
    "\n",
    "print('Total augmented images: ', calc_df['images_after_augmentation'].sum())\n",
    "calc_df.sort_values('images_after_augmentation').style"
   ]
  },
  {
   "cell_type": "code",
   "execution_count": null,
   "metadata": {},
   "outputs": [],
   "source": [
    "# Setting the input size and augmentation configuration\n",
    "\n",
    "SAVE_DIR = \"data\\pre_processed\"\n",
    "INPUT_SIZE = (299, 299)\n",
    "AUGMENT_CONFIG = {\n",
    "    \"augment_prob\": 1,\n",
    "    \"flip_horizontal\": True,\n",
    "    \"flip_vertical\": False,\n",
    "    \"flip_prob\": 0.5,\n",
    "    \"random_brightness\": True,\n",
    "    \"brightness_factor\": 0.15,\n",
    "    \"random_contrast\": True,\n",
    "    \"contrast_factor\": 0.15,\n",
    "    \"random_rotation\": True,\n",
    "    \"rotation_factor\": 3,\n",
    "    \"random_translation\": True,\n",
    "    \"translation_factor\": (0.05, 0.05),\n",
    "    \"random_zoom\": True,\n",
    "    \"zoom_factors\": (0.95, 1.05),\n",
    "    \"random_erasing\": True,\n",
    "    \"erasing_prob\": 0.15,\n",
    "    \"erasing_scale\": (0.05, 0.10),\n",
    "    \"erasing_ratio\": (0.3, 3.3),\n",
    "}"
   ]
  },
  {
   "cell_type": "code",
   "execution_count": null,
   "metadata": {},
   "outputs": [],
   "source": [
    "# Saving augmented images to disk\n",
    "\n",
    "save_augmented_images(train_df, input_size=INPUT_SIZE, augment_config=AUGMENT_CONFIG, save_dir=SAVE_DIR)"
   ]
  }
 ],
 "metadata": {
  "kernelspec": {
   "display_name": "torch_2.0",
   "language": "python",
   "name": "python3"
  },
  "language_info": {
   "codemirror_mode": {
    "name": "ipython",
    "version": 3
   },
   "file_extension": ".py",
   "mimetype": "text/x-python",
   "name": "python",
   "nbconvert_exporter": "python",
   "pygments_lexer": "ipython3",
   "version": "3.10.11"
  },
  "orig_nbformat": 4
 },
 "nbformat": 4,
 "nbformat_minor": 2
}
